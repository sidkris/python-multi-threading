{
  "nbformat": 4,
  "nbformat_minor": 0,
  "metadata": {
    "colab": {
      "provenance": []
    },
    "kernelspec": {
      "name": "python3",
      "display_name": "Python 3"
    },
    "language_info": {
      "name": "python"
    }
  },
  "cells": [
    {
      "cell_type": "code",
      "execution_count": 1,
      "metadata": {
        "id": "680Fe4RBbEsS"
      },
      "outputs": [],
      "source": [
        "from threading import Thread, Lock"
      ]
    },
    {
      "cell_type": "code",
      "source": [
        "def sum_0(length):\n",
        "\n",
        "  sum = 0\n",
        "\n",
        "  for i in range(1, length):\n",
        "    sum += i\n",
        "  print(\"sum : {}\".format(sum))"
      ],
      "metadata": {
        "id": "lRot7f0wgEgI"
      },
      "execution_count": 2,
      "outputs": []
    },
    {
      "cell_type": "code",
      "source": [
        "def sum_1(length):\n",
        "\n",
        "  sum_1 = 0\n",
        "\n",
        "  for i in range(1, length):\n",
        "    sum_1 += i * i\n",
        "  print(\"sum_1 : {}\".format(sum_1))"
      ],
      "metadata": {
        "id": "92ww6I--gZ8h"
      },
      "execution_count": 3,
      "outputs": []
    },
    {
      "cell_type": "code",
      "source": [
        "def sum_2(length):\n",
        "\n",
        "  sum_2 = 0\n",
        "\n",
        "  for i in range(1, length):\n",
        "    sum_2 += i * i * i    \n",
        "  print(\"sum_2 : {}\".format(sum_2))"
      ],
      "metadata": {
        "id": "KD4WWeXSgehG"
      },
      "execution_count": 4,
      "outputs": []
    },
    {
      "cell_type": "code",
      "source": [
        "def threading_():\n",
        "  \n",
        "  length = 5\n",
        "  thread_0 = Thread(target = sum_0, args = (length,))\n",
        "  thread_1 = Thread(target = sum_1, args = (length,))\n",
        "  thread_2 = Thread(target = sum_2, args = (length,))\n",
        "\n",
        "  # execute threads\n",
        "  thread_0.start()\n",
        "  thread_1.start()\n",
        "  thread_2.start()\n",
        "\n",
        "  # wait for the threads to execute and then join the threads to the parent function\n",
        "  thread_0.join()\n",
        "  thread_1.join()\n",
        "  thread_2.join()\n"
      ],
      "metadata": {
        "id": "Kwd_C3jughXd"
      },
      "execution_count": 5,
      "outputs": []
    },
    {
      "cell_type": "code",
      "source": [
        "threading_()"
      ],
      "metadata": {
        "colab": {
          "base_uri": "https://localhost:8080/"
        },
        "id": "dVYCRV82iMB1",
        "outputId": "f9ed60d4-2ccd-47c0-9071-aee53f59ad1c"
      },
      "execution_count": 6,
      "outputs": [
        {
          "output_type": "stream",
          "name": "stdout",
          "text": [
            "sum : 10\n",
            "sum_1 : 30\n",
            "sum_2 : 100\n"
          ]
        }
      ]
    },
    {
      "cell_type": "markdown",
      "source": [
        "# using threads with locks"
      ],
      "metadata": {
        "id": "Ex6tB9swlVKb"
      }
    },
    {
      "cell_type": "code",
      "source": [
        "thread_lock = Lock()"
      ],
      "metadata": {
        "id": "eTiG7jYmkrbH"
      },
      "execution_count": 7,
      "outputs": []
    },
    {
      "cell_type": "code",
      "source": [
        "my_global_string = \"Sid\"\n",
        "\n",
        "def add_prefix(prefix):\n",
        "  \n",
        "  global my_global_string\n",
        "  thread_lock.acquire()\n",
        "  my_global_string = \"{} {}\".format(prefix, my_global_string)\n",
        "  thread_lock.release()\n",
        "\n",
        "def add_suffix(suffix):\n",
        "  \n",
        "  global my_global_string\n",
        "  thread_lock.acquire()\n",
        "  my_global_string = \"{} {}\".format(my_global_string, suffix)\n",
        "  thread_lock.release()\n"
      ],
      "metadata": {
        "id": "6r2O4mAtl1xU"
      },
      "execution_count": 8,
      "outputs": []
    },
    {
      "cell_type": "code",
      "source": [
        "def threading_2():\n",
        "\n",
        "  thread_prefix = Thread(target = add_prefix, args = (\"Hi\",))\n",
        "  thread_suffix = Thread(target = add_suffix, args = (\"!\",))\n",
        "\n",
        "  thread_prefix.start()\n",
        "  thread_suffix.start()\n",
        "\n",
        "  thread_prefix.join()\n",
        "  thread_suffix.join()\n",
        "\n",
        "  global my_global_string\n",
        "\n",
        "  print(\"the final string : {}\".format(my_global_string))"
      ],
      "metadata": {
        "id": "xfvWhfBKmxzL"
      },
      "execution_count": 9,
      "outputs": []
    },
    {
      "cell_type": "code",
      "source": [
        "threading_2()"
      ],
      "metadata": {
        "colab": {
          "base_uri": "https://localhost:8080/"
        },
        "id": "a0HAfqyToE8V",
        "outputId": "e5830a96-2c89-4af5-9b0e-7f1a84c5e927"
      },
      "execution_count": 10,
      "outputs": [
        {
          "output_type": "stream",
          "name": "stdout",
          "text": [
            "the final string : Hi Sid !\n"
          ]
        }
      ]
    },
    {
      "cell_type": "code",
      "source": [],
      "metadata": {
        "id": "jiaiQ2yfoHsv"
      },
      "execution_count": 10,
      "outputs": []
    }
  ]
}